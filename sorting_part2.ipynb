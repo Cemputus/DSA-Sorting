import random
import time

# Function to generate a random array of a specified size
def generate_random_array(size):
    return [random.randint(1, 100) for _ in range(size)]

# Insertion Sort
def insertion_sort(arr):
    start_time = time.time()
    for i in range(1, len(arr)):
        key = arr[i]
        j = i - 1
        while j >= 0 and key < arr[j]:
            arr[j + 1] = arr[j]
            j -= 1
        arr[j + 1] = key
    end_time = time.time()
    execution_time = end_time - start_time
    return execution_time

# Heap Sort
def heap_sort(arr):
    def heapify(arr, n, i):
        largest = i
        left = 2 * i + 1
        right = 2 * i + 2

        if left < n and arr[left] > arr[largest]:
            largest = left

        if right < n and arr[right] > arr[largest]:
            largest = right

        if largest != i:
            arr[i], arr[largest] = arr[largest], arr[i]
            heapify(arr, n, largest)

    start_time = time.time()
    n = len(arr)
    for i in range(n // 2 - 1, -1, -1):
        heapify(arr, n, i)

    for i in range(n - 1, 0, -1):
        arr[i], arr[0] = arr[0], arr[i]
        heapify(arr, i, 0)
    end_time = time.time()
    execution_time = end_time - start_time
    return execution_time

# Counting Sort
def counting_sort(arr):
    start_time = time.time()
    max_val = max(arr)
    min_val = min(arr)
    range_of_values = max_val - min_val + 1
    count = [0] * range_of_values

    for num in arr:
        count[num - min_val] += 1

    sorted_arr = []
    for i, c in enumerate(count):
        sorted_arr.extend([i + min_val] * c)
    end_time = time.time()
    execution_time = end_time - start_time
    return execution_time

# Comb Sort
def comb_sort(arr):
    start_time = time.time()
    gap = len(arr)
    shrink = 1.3
    swapped = True

    while gap > 1 or swapped:
        gap = max(1, int(gap / shrink))
        swapped = False

        for i in range(len(arr) - gap):
            if arr[i] > arr[i + gap]:
                arr[i], arr[i + gap] = arr[i + gap], arr[i]
                swapped = True
    end_time = time.time()
    execution_time = end_time - start_time
    return execution_time

# Bubble Sort
def bubble_sort(arr):
    start_time = time.time()
    n = len(arr)
    for i in range(n):
        for j in range(0, n - i - 1):
            if arr[j] > arr[j + 1]:
                arr[j], arr[j + 1] = arr[j + 1], arr[j]
    end_time = time.time()
    execution_time = end_time - start_time
    return execution_time

# Merge Sort
def merge_sort(arr):
    start_time = time.time()
    if len(arr) > 1:
        mid = len(arr) // 2
        left_half = arr[:mid]
        right_half = arr[mid:]

        merge_sort(left_half)
        merge_sort(right_half)

        i = j = k = 0

        while i < len(left_half) and j < len(right_half):
            if left_half[i] < right_half[j]:
                arr[k] = left_half[i]
                i += 1
            else:
                arr[k] = right_half[j]
                j += 1
            k += 1

        while i < len(left_half):
            arr[k] = left_half[i]
            i += 1
            k += 1

        while j < len(right_half):
            arr[k] = right_half[j]
            j += 1
            k += 1
    end_time = time.time()
    execution_time = end_time - start_time
    return execution_time

# Quick Sort
def quick_sort(arr):
    if len(arr) <= 1:
        return arr
    
    pivot = arr[0]
    left = []
    middle = []
    right = []
    
    for item in arr:
        if item < pivot:
            left.append(item)
        elif item == pivot:
            middle.append(item)
        else:
            right.append(item)
    
    return quick_sort(left) + middle + quick_sort(right)

# Selection Sort
def selection_sort(arr):
    start_time = time.time()
    for i in range(len(arr)):
        min_index = i
        for j in range(i + 1, len(arr)):
            if arr[j] < arr[min_index]:
                min_index = j
        arr[i], arr[min_index] = arr[min_index], arr[i]
    end_time = time.time()
    execution_time = end_time - start_time
    return execution_time

# Example usage for each sorting algorithm
arr = generate_random_array(100)  # Adjust the size as needed
print("Original Array:", arr)

# Sort and measure time for each algorithm
print("Insertion Sort Execution Time:", insertion_sort(arr), "seconds")
print("Heap Sort Execution Time:", heap_sort(arr), "seconds")
print("Counting Sort Execution Time:", counting_sort(arr), "seconds")
print("Comb Sort Execution Time:", comb_sort(arr), "seconds")
print("Bubble Sort Execution Time:", bubble_sort(arr), "seconds")
print("Merge Sort Execution Time:", merge_sort(arr), "seconds")
print("Quick Sort Execution Time:", quick_sort(arr), "seconds")
print("Selection Sort Execution Time:", selection_sort(arr), "seconds")

# Print the sorted array to verify correctness
print("Sorted Array:", arr)
